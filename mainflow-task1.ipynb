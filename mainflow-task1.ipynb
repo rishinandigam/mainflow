{
 "cells": [
  {
   "cell_type": "raw",
   "id": "b21739b5-0c17-4ea4-92aa-b31ad421035e",
   "metadata": {},
   "source": [
    "Write a Python program to create a list, a\n",
    "dictionary, and a set. Perform basic operations\n",
    "like adding, removing, and modifying\n",
    "elements."
   ]
  },
  {
   "cell_type": "code",
   "execution_count": null,
   "id": "6ac088e5-3066-49ee-ae8e-fe4b7b416b79",
   "metadata": {},
   "outputs": [],
   "source": [
    "#creating a list in python \n",
    "myList = ['rishi' , 23 , 34 , 56 ,  45.65 ]\n",
    "\n",
    "#Accessing  the elements from the list \n",
    "print(myList[0])\n",
    "print(myList[-1])\n",
    "\n",
    "#Adding elements to in the last position \n",
    "myList.append(90.3)\n",
    "\n",
    "#printing the updated list\n",
    "print(\"The updated list after append the element :\",myList)\n",
    "\n",
    "#removing an element  from the list\n",
    "myList.remove(34)\n",
    "\n",
    "# inserting an element at the specified position\n",
    "myList.insert(2,1)\n",
    "\n",
    "#removing the last element from the list using pop function and storing the poped element\n",
    "popElement = myList.pop()\n",
    "print(\"The poped element from the list : \",popElement)\n",
    "\n",
    "#printing the final list\n",
    "print(myList)"
   ]
  },
  {
   "cell_type": "code",
   "execution_count": null,
   "id": "9c5e8a5b-8dcc-4daf-a184-49a3ef502875",
   "metadata": {},
   "outputs": [],
   "source": [
    "# Creating a dictionary\n",
    "my_dict = {'a': 1, 'b': 2, 'c': 3} \n",
    "print(\"\\nOriginal dictionary:\", my_dict) \n",
    "\n",
    "# Adding a key value pair to the dict\n",
    "my_dict['d'] = 4 \n",
    "print(\"After adding a key-value pair:\", my_dict)\n",
    "\n",
    "# Remove a key value pair from the dict\n",
    "del my_dict['b'] \n",
    "print(\"After removing a key-value pair:\", my_dict) \n",
    "\n",
    "# Modify a value in the dictionary \n",
    "my_dict['c'] = 30 \n",
    "print(\"After modifying a value:\", my_dict)"
   ]
  },
  {
   "cell_type": "code",
   "execution_count": null,
   "id": "f4f7a283-b261-4bcd-be15-0ce9887f158b",
   "metadata": {},
   "outputs": [],
   "source": [
    "my_set = {1, 2, 3, 4, 5} \n",
    "print(\"\\nOriginal set:\", my_set)\n",
    "\n",
    "my_set.add(6)\n",
    "print(\"After adding an element:\", my_set)\n",
    "\n",
    "my_set.remove(3)\n",
    "print(\"After removing an element:\", my_set)\n",
    "\n",
    "my_set.discard(4) \n",
    "my_set.add(10) \n",
    "\n",
    "print(\"After modifying an element (indirectly):\", my_set)"
   ]
  }
 ],
 "metadata": {
  "kernelspec": {
   "display_name": "Python 3 (ipykernel)",
   "language": "python",
   "name": "python3"
  },
  "language_info": {
   "codemirror_mode": {
    "name": "ipython",
    "version": 3
   },
   "file_extension": ".py",
   "mimetype": "text/x-python",
   "name": "python",
   "nbconvert_exporter": "python",
   "pygments_lexer": "ipython3",
   "version": "3.13.0"
  }
 },
 "nbformat": 4,
 "nbformat_minor": 5
}
